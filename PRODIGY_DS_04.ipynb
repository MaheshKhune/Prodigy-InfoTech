{
 "cells": [
  {
   "cell_type": "code",
   "execution_count": null,
   "id": "cebe9be8-fb19-4cad-b3bf-9f3c5121a49d",
   "metadata": {},
   "outputs": [],
   "source": [
    "import pandas as pd\n",
    "import matplotlib.pyplot as plt\n",
    "import seaborn as sns\n",
    "from wordcloud import WordCloud\n",
    "from nltk.sentiment import SentimentIntensityAnalyzer\n",
    "import nltk\n",
    "\n",
    "# Download VADER for sentiment analysis\n",
    "nltk.download(\"vader_lexicon\")\n",
    "\n",
    "import pandas as pd\n",
    "\n",
    "# File path\n",
    "file_path = r\"D:\\Internship Tasks\\archive\\twitter_training.csv\"\n",
    "\n",
    "# Load the dataset\n",
    "df = pd.read_csv(file_path, encoding=\"latin1\")\n",
    "\n",
    "print(\"sentiment:\", df.columns)\n",
    "print(df.head())\n",
    "\n",
    "\n",
    "\n",
    "if \"sentiment\" not in df.columns:\n",
    "    raise ValueError(\"Dataset does not contain a 'sentiment' column!\")\n",
    "\n",
    "# Initialize Sentiment Analyzer\n",
    "sia = SentimentIntensityAnalyzer()\n",
    "\n",
    "# Apply Sentiment Analysis\n",
    "df[\"sentiment_score\"] = df[\"sentiment\"].apply(lambda x: sia.polarity_scores(str(x))[\"compound\"])\n",
    "\n",
    "\n",
    "# Classify Sentiment\n",
    "df[\"sentiment\"] = df[\"sentiment_score\"].apply(lambda x: \"Positive\" if x > 0 else (\"Negative\" if x < 0 else \"Neutral\"))\n",
    "\n",
    "# Visualize Sentiment Distribution\n",
    "plt.figure(figsize=(6, 4))\n",
    "sns.countplot(x=\"sentiment\", data=df, palette=\"coolwarm\")\n",
    "plt.title(\"Sentiment Distribution in Tweets\")\n",
    "plt.xlabel(\"Sentiment\")\n",
    "plt.ylabel(\"Count\")\n",
    "plt.show()\n",
    "\n",
    "# Word Cloud of Most Frequent Words\n",
    "text_data = \" \".join(df[\"text\"].astype(str))\n",
    "wordcloud = WordCloud(width=800, height=400, background_color=\"black\").generate(text_data)\n",
    "\n",
    "plt.figure(figsize=(10, 5))\n",
    "plt.imshow(wordcloud, interpolation=\"bilinear\")\n",
    "plt.axis(\"off\")\n",
    "plt.title(\"Most Common Words in Tweets\")\n",
    "plt.show()\n",
    "\n",
    "# Save Processed Data\n",
    "df.to_csv(\"processed_twitter_sentiment.csv\", index=False)\n",
    "print(\"Processed dataset saved successfully!\")\n"
   ]
  },
  {
   "cell_type": "code",
   "execution_count": null,
   "id": "82d72b33-34f1-4a9b-ae01-2fca321b6669",
   "metadata": {},
   "outputs": [],
   "source": []
  },
  {
   "cell_type": "code",
   "execution_count": null,
   "id": "e81aa19d-c3c4-49e3-aecc-0cb504f748c3",
   "metadata": {},
   "outputs": [],
   "source": []
  }
 ],
 "metadata": {
  "kernelspec": {
   "display_name": "Python 3 (ipykernel)",
   "language": "python",
   "name": "python3"
  },
  "language_info": {
   "codemirror_mode": {
    "name": "ipython",
    "version": 3
   },
   "file_extension": ".py",
   "mimetype": "text/x-python",
   "name": "python",
   "nbconvert_exporter": "python",
   "pygments_lexer": "ipython3",
   "version": "3.12.7"
  }
 },
 "nbformat": 4,
 "nbformat_minor": 5
}
